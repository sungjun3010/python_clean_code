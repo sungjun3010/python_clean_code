{
 "cells": [
  {
   "cell_type": "markdown",
   "id": "984533cd",
   "metadata": {},
   "source": [
    "### slice 객체"
   ]
  },
  {
   "cell_type": "code",
   "execution_count": 1,
   "id": "36a904bf",
   "metadata": {},
   "outputs": [],
   "source": [
    "interval2 = slice(None, None, 2)"
   ]
  },
  {
   "cell_type": "code",
   "execution_count": 2,
   "id": "71f1b590",
   "metadata": {},
   "outputs": [
    {
     "name": "stdout",
     "output_type": "stream",
     "text": [
      "range(0, 101, 2)\n"
     ]
    }
   ],
   "source": [
    "_0_to_100_range = range(101)\n",
    "print(_0_to_100_range[interval2])"
   ]
  },
  {
   "cell_type": "code",
   "execution_count": 3,
   "id": "f15e926d",
   "metadata": {
    "scrolled": true
   },
   "outputs": [
    {
     "name": "stdout",
     "output_type": "stream",
     "text": [
      "[0, 2, 4, 6, 8, 10, 12, 14, 16, 18, 20, 22, 24, 26, 28, 30, 32, 34, 36, 38, 40, 42, 44, 46, 48, 50, 52, 54, 56, 58, 60, 62, 64, 66, 68, 70, 72, 74, 76, 78, 80, 82, 84, 86, 88, 90, 92, 94, 96, 98, 100]\n"
     ]
    }
   ],
   "source": [
    "_0_to_100_list = list(range(101))\n",
    "print(_0_to_100_list[interval2])"
   ]
  },
  {
   "cell_type": "markdown",
   "id": "36c73ac6",
   "metadata": {},
   "source": [
    "### 자체 시퀀스를 만들 때 고려할 점\n",
    "\n",
    "- `_getitem__`과 `__len__` 구현\n",
    "- 슬라이싱의 결과는 항상 같은 타입의 인스턴스일 것\n",
    "- 슬라이싱에 의해 제공된 범위의 마지막 인덱스는 제외할 것"
   ]
  },
  {
   "cell_type": "markdown",
   "id": "0a1efa5a",
   "metadata": {},
   "source": [
    "### 컨텍스트 관리자\n",
    "\n",
    "- 리소스 관리에 좋음\n",
    "- 관심사를 분리하고 독립적으로 유지되어야하는 코드를 분리하는 좋은 방법\n",
    "- 구현하려면 `__enter__`와 `__exit__`를 구현해야함"
   ]
  },
  {
   "cell_type": "code",
   "execution_count": 4,
   "id": "4f5128aa",
   "metadata": {},
   "outputs": [],
   "source": [
    "def stop_db():\n",
    "    print(\"systemctl stop postgresql.service\")\n",
    "    \n",
    "def start_db():\n",
    "    print(\"systemctl start postgresql.service\")\n",
    "    \n",
    "# define context manager\n",
    "class DBHandler:\n",
    "    def __enter__(self):\n",
    "        stop_db()\n",
    "        return self\n",
    "    \n",
    "    def __exit__(self, exc_type, ex_value, ex_traceback):\n",
    "        start_db()\n",
    "        \n",
    "def backup_db():\n",
    "    print(\"pg_dump database\")\n",
    "    \n",
    "def backup_db_error():\n",
    "    try:\n",
    "        raise BlockingIOError(\"Error: IO is blocked\")\n",
    "    except BlockingIOError as e:\n",
    "        print(e)\n",
    "    \n",
    "def main_normal():\n",
    "    with DBHandler():\n",
    "        backup_db()\n",
    "        \n",
    "def main_error():\n",
    "    with DBHandler():\n",
    "        backup_db_error()"
   ]
  },
  {
   "cell_type": "code",
   "execution_count": 5,
   "id": "ba50fd09",
   "metadata": {},
   "outputs": [
    {
     "name": "stdout",
     "output_type": "stream",
     "text": [
      "systemctl stop postgresql.service\n",
      "pg_dump database\n",
      "systemctl start postgresql.service\n"
     ]
    }
   ],
   "source": [
    "main_normal()"
   ]
  },
  {
   "cell_type": "code",
   "execution_count": 6,
   "id": "9b506a3a",
   "metadata": {},
   "outputs": [
    {
     "name": "stdout",
     "output_type": "stream",
     "text": [
      "systemctl stop postgresql.service\n",
      "Error: IO is blocked\n",
      "systemctl start postgresql.service\n"
     ]
    }
   ],
   "source": [
    "main_error()"
   ]
  },
  {
   "cell_type": "markdown",
   "id": "93fd7b80",
   "metadata": {},
   "source": [
    "- 위 예시에서 에러가 발생해도 db는 다시 시작됨"
   ]
  },
  {
   "cell_type": "markdown",
   "id": "5d6e21e0",
   "metadata": {},
   "source": [
    "### contextlib을 사용한 contextmanager 구현"
   ]
  },
  {
   "cell_type": "code",
   "execution_count": 7,
   "id": "b5cf279f",
   "metadata": {},
   "outputs": [],
   "source": [
    "import contextlib\n",
    "\n",
    "@contextlib.contextmanager\n",
    "def db_handler():\n",
    "    stop_db()\n",
    "    yield\n",
    "    start_db()"
   ]
  },
  {
   "cell_type": "markdown",
   "id": "97e0ede1",
   "metadata": {},
   "source": [
    "- `@contextlib.contextmanager`: attach된 함수를 context manager로 바꿔줌\n",
    "\n",
    "\n",
    "- `yield` 위로는 `__enter__` 역할\n",
    "- `yield` 에서는 반환할 게 있으면 반환, 없으면 지금처럼\n",
    "- `yield` 아래로는 `__exit__` 역할"
   ]
  },
  {
   "cell_type": "code",
   "execution_count": 8,
   "id": "12a62466",
   "metadata": {},
   "outputs": [
    {
     "name": "stdout",
     "output_type": "stream",
     "text": [
      "systemctl stop postgresql.service\n",
      "pg_dump database\n",
      "systemctl start postgresql.service\n"
     ]
    }
   ],
   "source": [
    "with db_handler():\n",
    "    backup_db()"
   ]
  },
  {
   "cell_type": "code",
   "execution_count": 9,
   "id": "f0a221ab",
   "metadata": {},
   "outputs": [
    {
     "name": "stdout",
     "output_type": "stream",
     "text": [
      "systemctl stop postgresql.service\n",
      "Error: IO is blocked\n",
      "systemctl start postgresql.service\n"
     ]
    }
   ],
   "source": [
    "with db_handler():\n",
    "    backup_db_error()"
   ]
  },
  {
   "cell_type": "markdown",
   "id": "590e33f7",
   "metadata": {},
   "source": [
    "-  `contextlib.ContextDecorator`를 상속해서 decorator로 쓰이는 클래스를 정의할 수 있지만, `__enter__`의 결과 값을 반환할 수 없어서 일반적이지 못함"
   ]
  },
  {
   "cell_type": "markdown",
   "id": "f383fc57",
   "metadata": {},
   "source": [
    "### name mangling\n",
    "\n",
    "- 파이썬의 class 내에서 변수 앞에 `__`를 붙이는 경우, `_{class-name}__{variable-name}`의 속성을 만드는 것, private과 유사하게 동작한다."
   ]
  },
  {
   "cell_type": "code",
   "execution_count": 10,
   "id": "85e74ed5",
   "metadata": {},
   "outputs": [],
   "source": [
    "class Connector:\n",
    "    def __init__(self, source):\n",
    "        self.sourcce = source\n",
    "        self.__timeout = 60\n",
    "        \n",
    "conn = Connector('postgresql://localhost')"
   ]
  },
  {
   "cell_type": "code",
   "execution_count": 19,
   "id": "4b6cbe2a",
   "metadata": {},
   "outputs": [
    {
     "name": "stdout",
     "output_type": "stream",
     "text": [
      "60\n"
     ]
    },
    {
     "ename": "AttributeError",
     "evalue": "'Connector' object has no attribute '__timeout'",
     "output_type": "error",
     "traceback": [
      "\u001b[0;31m---------------------------------------\u001b[0m",
      "\u001b[0;31mAttributeError\u001b[0mTraceback (most recent call last)",
      "\u001b[0;32m<ipython-input-19-bd85c8df35d5>\u001b[0m in \u001b[0;36m<module>\u001b[0;34m\u001b[0m\n\u001b[1;32m      1\u001b[0m \u001b[0mconn\u001b[0m \u001b[0;34m=\u001b[0m \u001b[0mConnector\u001b[0m\u001b[0;34m(\u001b[0m\u001b[0;34m'postgresql://localhost'\u001b[0m\u001b[0;34m)\u001b[0m\u001b[0;34m\u001b[0m\u001b[0;34m\u001b[0m\u001b[0m\n\u001b[1;32m      2\u001b[0m \u001b[0mprint\u001b[0m\u001b[0;34m(\u001b[0m\u001b[0mconn\u001b[0m\u001b[0;34m.\u001b[0m\u001b[0m_Connector__timeout\u001b[0m\u001b[0;34m)\u001b[0m\u001b[0;34m\u001b[0m\u001b[0;34m\u001b[0m\u001b[0m\n\u001b[0;32m----> 3\u001b[0;31m \u001b[0mprint\u001b[0m\u001b[0;34m(\u001b[0m\u001b[0mconn\u001b[0m\u001b[0;34m.\u001b[0m\u001b[0m__timeout\u001b[0m\u001b[0;34m)\u001b[0m\u001b[0;34m\u001b[0m\u001b[0;34m\u001b[0m\u001b[0m\n\u001b[0m",
      "\u001b[0;31mAttributeError\u001b[0m: 'Connector' object has no attribute '__timeout'"
     ]
    }
   ],
   "source": [
    "conn = Connector('postgresql://localhost')\n",
    "print(conn._Connector__timeout)\n",
    "print(conn.__timeout)"
   ]
  },
  {
   "cell_type": "code",
   "execution_count": 11,
   "id": "64d47710",
   "metadata": {},
   "outputs": [
    {
     "data": {
      "text/plain": [
       "60"
      ]
     },
     "execution_count": 11,
     "metadata": {},
     "output_type": "execute_result"
    }
   ],
   "source": [
    "conn._Connector__timeout"
   ]
  },
  {
   "cell_type": "code",
   "execution_count": 12,
   "id": "4d1dbdc3",
   "metadata": {},
   "outputs": [
    {
     "ename": "AttributeError",
     "evalue": "'Connector' object has no attribute '__timeout'",
     "output_type": "error",
     "traceback": [
      "\u001b[0;31m---------------------------------------\u001b[0m",
      "\u001b[0;31mAttributeError\u001b[0mTraceback (most recent call last)",
      "\u001b[0;32m<ipython-input-12-d082cdc68a78>\u001b[0m in \u001b[0;36m<module>\u001b[0;34m\u001b[0m\n\u001b[0;32m----> 1\u001b[0;31m \u001b[0mconn\u001b[0m\u001b[0;34m.\u001b[0m\u001b[0m__timeout\u001b[0m\u001b[0;34m\u001b[0m\u001b[0;34m\u001b[0m\u001b[0m\n\u001b[0m",
      "\u001b[0;31mAttributeError\u001b[0m: 'Connector' object has no attribute '__timeout'"
     ]
    }
   ],
   "source": [
    "conn.__timeout"
   ]
  },
  {
   "cell_type": "code",
   "execution_count": 13,
   "id": "791cf903",
   "metadata": {},
   "outputs": [
    {
     "data": {
      "text/plain": [
       "{'sourcce': 'postgresql://localhost', '_Connector__timeout': 60}"
      ]
     },
     "execution_count": 13,
     "metadata": {},
     "output_type": "execute_result"
    }
   ],
   "source": [
    "conn.__dict__"
   ]
  },
  {
   "cell_type": "markdown",
   "id": "4e976ea7",
   "metadata": {},
   "source": [
    "### property"
   ]
  },
  {
   "cell_type": "code",
   "execution_count": 17,
   "id": "a1cebc4b",
   "metadata": {},
   "outputs": [],
   "source": [
    "import re as regex\n",
    "\n",
    "EMAIL_FORMAT = regex.compile(r\"[^@]+@[^@]+[^@]+\")\n",
    "\n",
    "class User:\n",
    "    def __init__(self, username):\n",
    "        self.username = username\n",
    "        self._email = None\n",
    "        \n",
    "    @property\n",
    "    def email(self):\n",
    "        return self._email\n",
    "    \n",
    "    @email.setter\n",
    "    def email(self, new_email):\n",
    "        if not self.is_vaild_email(new_email):\n",
    "            raise ValueError(f'invalid email format')\n",
    "        self._email = new_email\n",
    "    \n",
    "    @staticmethod\n",
    "    def is_vaild_email(potentially_vaild_email: str) -> bool:\n",
    "        return regex.match(EMAIL_FORMAT, potentially_vaild_email) is not None\n",
    "    "
   ]
  },
  {
   "cell_type": "code",
   "execution_count": 19,
   "id": "34ccee2c",
   "metadata": {},
   "outputs": [
    {
     "ename": "ValueError",
     "evalue": "invalid email format",
     "output_type": "error",
     "traceback": [
      "\u001b[0;31m---------------------------------------\u001b[0m",
      "\u001b[0;31mValueError\u001b[0mTraceback (most recent call last)",
      "\u001b[0;32m<ipython-input-19-266fbdf4ebcc>\u001b[0m in \u001b[0;36m<module>\u001b[0;34m\u001b[0m\n\u001b[1;32m      1\u001b[0m \u001b[0mu1\u001b[0m \u001b[0;34m=\u001b[0m \u001b[0mUser\u001b[0m\u001b[0;34m(\u001b[0m\u001b[0;34m'john'\u001b[0m\u001b[0;34m)\u001b[0m\u001b[0;34m\u001b[0m\u001b[0;34m\u001b[0m\u001b[0m\n\u001b[0;32m----> 2\u001b[0;31m \u001b[0mu1\u001b[0m\u001b[0;34m.\u001b[0m\u001b[0memail\u001b[0m \u001b[0;34m=\u001b[0m \u001b[0;34m'god_j@'\u001b[0m\u001b[0;34m\u001b[0m\u001b[0;34m\u001b[0m\u001b[0m\n\u001b[0m",
      "\u001b[0;32m<ipython-input-17-35fd32a63880>\u001b[0m in \u001b[0;36memail\u001b[0;34m(self, new_email)\u001b[0m\n\u001b[1;32m     15\u001b[0m     \u001b[0;32mdef\u001b[0m \u001b[0memail\u001b[0m\u001b[0;34m(\u001b[0m\u001b[0mself\u001b[0m\u001b[0;34m,\u001b[0m \u001b[0mnew_email\u001b[0m\u001b[0;34m)\u001b[0m\u001b[0;34m:\u001b[0m\u001b[0;34m\u001b[0m\u001b[0;34m\u001b[0m\u001b[0m\n\u001b[1;32m     16\u001b[0m         \u001b[0;32mif\u001b[0m \u001b[0;32mnot\u001b[0m \u001b[0mself\u001b[0m\u001b[0;34m.\u001b[0m\u001b[0mis_vaild_email\u001b[0m\u001b[0;34m(\u001b[0m\u001b[0mnew_email\u001b[0m\u001b[0;34m)\u001b[0m\u001b[0;34m:\u001b[0m\u001b[0;34m\u001b[0m\u001b[0;34m\u001b[0m\u001b[0m\n\u001b[0;32m---> 17\u001b[0;31m             \u001b[0;32mraise\u001b[0m \u001b[0mValueError\u001b[0m\u001b[0;34m(\u001b[0m\u001b[0;34mf'invalid email format'\u001b[0m\u001b[0;34m)\u001b[0m\u001b[0;34m\u001b[0m\u001b[0;34m\u001b[0m\u001b[0m\n\u001b[0m\u001b[1;32m     18\u001b[0m         \u001b[0mself\u001b[0m\u001b[0;34m.\u001b[0m\u001b[0m_email\u001b[0m \u001b[0;34m=\u001b[0m \u001b[0mnew_email\u001b[0m\u001b[0;34m\u001b[0m\u001b[0;34m\u001b[0m\u001b[0m\n\u001b[1;32m     19\u001b[0m \u001b[0;34m\u001b[0m\u001b[0m\n",
      "\u001b[0;31mValueError\u001b[0m: invalid email format"
     ]
    }
   ],
   "source": [
    "u1 = User('john')\n",
    "u1.email = 'god_j@'"
   ]
  },
  {
   "cell_type": "code",
   "execution_count": 20,
   "id": "ad42f37e",
   "metadata": {},
   "outputs": [
    {
     "data": {
      "text/plain": [
       "'cooljay@gamil.com'"
      ]
     },
     "execution_count": 20,
     "metadata": {},
     "output_type": "execute_result"
    }
   ],
   "source": [
    "u2 = User('jay')\n",
    "u2.email = 'cooljay@gamil.com'\n",
    "u2.email"
   ]
  },
  {
   "cell_type": "markdown",
   "id": "73931782",
   "metadata": {},
   "source": [
    "- 객체의 모든 속성에 `@property`를 할 필요 없고, 속성 값을 가져오거나 수정할 때 특별한 로직이 필요한 경우에만 사용 권장"
   ]
  },
  {
   "cell_type": "markdown",
   "id": "174f7d10",
   "metadata": {},
   "source": [
    "> 명령-쿼리 분리 원칙 (command and query seperation)\n",
    "- 객체의 메서드가 무언가의 상태를 변경하는 커맨드이거나 무언가의 값을 반환하는 쿼리이거나 둘 중에 하나만 수행해야지 둘 다 동시에 수행하면 안된다는 원칙\n",
    "- `@property`는 *query*, `@{var_name}.setter`는 *command*"
   ]
  },
  {
   "cell_type": "markdown",
   "id": "4ea071df",
   "metadata": {},
   "source": [
    "### 이터러블 객체\n",
    "\n",
    "- `for e in elements:`를 수행할 수 있는 객체\n",
    "    - Check1: `__next__` 또는 `__iter__` 중 하나를 포함\n",
    "    - Check2: `__len__`과 `__getitem__`을 모두 포함\n",
    "\n",
    "\n",
    "- `__iter__`: for iterable\n",
    "- `__next__`: for iterater\n",
    "\n",
    "\n",
    "- (용어) fallback mechanism: 만일을 대비해 준비한 절차"
   ]
  },
  {
   "cell_type": "code",
   "execution_count": 35,
   "id": "203aec4d",
   "metadata": {},
   "outputs": [],
   "source": [
    "from datetime import date, timedelta\n",
    "\n",
    "class DateRangeIterable:\n",
    "    def __init__(self, start_date, end_date):\n",
    "        self.start_date = start_date\n",
    "        self.end_date = end_date\n",
    "        self._present_day = start_date\n",
    "        \n",
    "    def __iter__(self):\n",
    "        return self\n",
    "    \n",
    "    def __next__(self):\n",
    "        if self._present_day >= self.end_date:\n",
    "            raise StopIteration\n",
    "        today = self._present_day\n",
    "        self._present_day += timedelta(days=1)\n",
    "        return today"
   ]
  },
  {
   "cell_type": "code",
   "execution_count": 36,
   "id": "2987d5db",
   "metadata": {},
   "outputs": [],
   "source": [
    "dri =  DateRangeIterable(date(2019, 1, 1), date(2019, 1, 5))"
   ]
  },
  {
   "cell_type": "code",
   "execution_count": 37,
   "id": "797cd787",
   "metadata": {},
   "outputs": [
    {
     "name": "stdout",
     "output_type": "stream",
     "text": [
      "2019-01-01\n",
      "2019-01-02\n",
      "2019-01-03\n",
      "2019-01-04\n"
     ]
    }
   ],
   "source": [
    "for day in dri:\n",
    "    print(day)"
   ]
  },
  {
   "cell_type": "code",
   "execution_count": 47,
   "id": "d24ce73e",
   "metadata": {},
   "outputs": [
    {
     "ename": "ValueError",
     "evalue": "max() arg is an empty sequence",
     "output_type": "error",
     "traceback": [
      "\u001b[0;31m---------------------------------------\u001b[0m",
      "\u001b[0;31mValueError\u001b[0mTraceback (most recent call last)",
      "\u001b[0;32m<ipython-input-47-0f9a0b9979c2>\u001b[0m in \u001b[0;36m<module>\u001b[0;34m\u001b[0m\n\u001b[0;32m----> 1\u001b[0;31m \u001b[0mmax\u001b[0m\u001b[0;34m(\u001b[0m\u001b[0mdri\u001b[0m\u001b[0;34m)\u001b[0m\u001b[0;34m\u001b[0m\u001b[0;34m\u001b[0m\u001b[0m\n\u001b[0m",
      "\u001b[0;31mValueError\u001b[0m: max() arg is an empty sequence"
     ]
    }
   ],
   "source": [
    "max(dri)"
   ]
  },
  {
   "cell_type": "markdown",
   "id": "d83f359b",
   "metadata": {},
   "source": [
    "- data를 모두 iterate하고 나면, reload할 수 없는 단점 존재"
   ]
  },
  {
   "cell_type": "code",
   "execution_count": 39,
   "id": "2eb54f13",
   "metadata": {},
   "outputs": [],
   "source": [
    "from datetime import date, timedelta\n",
    "\n",
    "class DateRangeContainerIterable:\n",
    "    def __init__(self, start_date, end_date):\n",
    "        self.start_date = start_date\n",
    "        self.end_date = end_date\n",
    "        self._present_day = start_date\n",
    "        \n",
    "    def __iter__(self):\n",
    "        current_day = self.start_date\n",
    "        while current_day < self.end_date:\n",
    "            yield current_day\n",
    "            current_day += timedelta(days=1)"
   ]
  },
  {
   "cell_type": "code",
   "execution_count": 40,
   "id": "38c44028",
   "metadata": {},
   "outputs": [],
   "source": [
    "drci = DateRangeContainerIterable(date(2019, 1, 1), date(2019, 1, 5))"
   ]
  },
  {
   "cell_type": "code",
   "execution_count": 41,
   "id": "d1b52935",
   "metadata": {},
   "outputs": [
    {
     "name": "stdout",
     "output_type": "stream",
     "text": [
      "2019-01-01\n",
      "2019-01-02\n",
      "2019-01-03\n",
      "2019-01-04\n"
     ]
    }
   ],
   "source": [
    "for day in drci:\n",
    "    print(day)"
   ]
  },
  {
   "cell_type": "code",
   "execution_count": 46,
   "id": "d94b3c05",
   "metadata": {},
   "outputs": [
    {
     "data": {
      "text/plain": [
       "datetime.date(2019, 1, 4)"
      ]
     },
     "execution_count": 46,
     "metadata": {},
     "output_type": "execute_result"
    }
   ],
   "source": [
    "max(drci)"
   ]
  },
  {
   "cell_type": "markdown",
   "id": "d50dd716",
   "metadata": {},
   "source": [
    "- `__iter__`에서 제너레이터를 구현해서 이전의 문제 해결\n",
    "- 이를 container iterable이라고 함"
   ]
  },
  {
   "cell_type": "markdown",
   "id": "21801f11",
   "metadata": {},
   "source": [
    "### 시퀀스 만들기\n",
    "\n",
    "- 즉 인덱싱과 슬라이싱이 가능한 객체 만들기\n",
    "- 이터러블 객체보다 메모리는 더 잡아먹지만, 검색 속도가 빠름"
   ]
  },
  {
   "cell_type": "code",
   "execution_count": 48,
   "id": "22f1051c",
   "metadata": {},
   "outputs": [],
   "source": [
    "class DateRangeSequence:\n",
    "    def __init__(self, start_date, end_date):\n",
    "        self.start_date = start_date\n",
    "        self.end_date = end_date\n",
    "        self._range = self._create_range()\n",
    "    \n",
    "    def _create_range(self):\n",
    "        days = []\n",
    "        current_day = self.start_date\n",
    "        while current_day < self.end_date:\n",
    "            days.append(current_day)\n",
    "            current_day += timedelta(days=1)\n",
    "        return days\n",
    " \n",
    "    def __getitem__(self, day_no):\n",
    "        return self._range[day_no]\n",
    "    \n",
    "    def __len__(self):\n",
    "        return len(self._range)"
   ]
  },
  {
   "cell_type": "code",
   "execution_count": 49,
   "id": "764f4c01",
   "metadata": {},
   "outputs": [],
   "source": [
    "drs = DateRangeSequence(date(2019, 1, 1), date(2019, 1, 5))"
   ]
  },
  {
   "cell_type": "code",
   "execution_count": 50,
   "id": "b62bc88d",
   "metadata": {},
   "outputs": [
    {
     "name": "stdout",
     "output_type": "stream",
     "text": [
      "2019-01-01\n",
      "2019-01-02\n",
      "2019-01-03\n",
      "2019-01-04\n"
     ]
    }
   ],
   "source": [
    "for day in drs:\n",
    "    print(day)"
   ]
  },
  {
   "cell_type": "code",
   "execution_count": 51,
   "id": "a89e3867",
   "metadata": {},
   "outputs": [
    {
     "data": {
      "text/plain": [
       "datetime.date(2019, 1, 1)"
      ]
     },
     "execution_count": 51,
     "metadata": {},
     "output_type": "execute_result"
    }
   ],
   "source": [
    "drs[0]"
   ]
  },
  {
   "cell_type": "markdown",
   "id": "b2090692",
   "metadata": {},
   "source": [
    "- 다른 iterable inatance들 (dri, drci)는 검색 불가"
   ]
  },
  {
   "cell_type": "markdown",
   "id": "c9187591",
   "metadata": {},
   "source": [
    "### 컨테이너 객체\n",
    "\n",
    "- membership을 확인할 수 있는 `in`연산이 가능한 객체\n",
    "- 내부에 `__contains__`구현 필요"
   ]
  },
  {
   "cell_type": "code",
   "execution_count": 53,
   "id": "7188e085",
   "metadata": {},
   "outputs": [],
   "source": [
    "# matrix를 이동하는 문제를 풀 때, 이동 범위를 벗어나는지 아닌지를 pythonic하게 확인할 수 있음\n",
    "\n",
    "class Boundaries:\n",
    "    def __init__(self, width, height):\n",
    "        self.width = width\n",
    "        self.height = height\n",
    "        \n",
    "    def __contains__(self, coord):\n",
    "        x, y = coord\n",
    "        return 0 <= x < self.width and 0 <= y < self.height\n",
    "    \n",
    "class Grid:\n",
    "    def __init__(self, width, height):\n",
    "        self.width = width\n",
    "        self.height = height\n",
    "        self.limits = Boundaries(width, height)\n",
    "        \n",
    "    def __contains__(self, coord):\n",
    "        return coord in self.limits"
   ]
  },
  {
   "cell_type": "code",
   "execution_count": 54,
   "id": "65efd029",
   "metadata": {},
   "outputs": [],
   "source": [
    "g = Grid(4, 5)"
   ]
  },
  {
   "cell_type": "code",
   "execution_count": 55,
   "id": "6dc9596b",
   "metadata": {},
   "outputs": [
    {
     "data": {
      "text/plain": [
       "True"
      ]
     },
     "execution_count": 55,
     "metadata": {},
     "output_type": "execute_result"
    }
   ],
   "source": [
    "(0, 3) in g"
   ]
  },
  {
   "cell_type": "code",
   "execution_count": 56,
   "id": "e493a9f2",
   "metadata": {},
   "outputs": [
    {
     "data": {
      "text/plain": [
       "False"
      ]
     },
     "execution_count": 56,
     "metadata": {},
     "output_type": "execute_result"
    }
   ],
   "source": [
    "(5, 5) in g"
   ]
  },
  {
   "cell_type": "markdown",
   "id": "f3e1e879",
   "metadata": {},
   "source": [
    "### 객체의 동적 속성\n",
    "\n",
    "- `__getattr__`: 속성을 **조회**할 때, 객체가 갖고 있지 않는 속성일 경우 실행되는 로직"
   ]
  },
  {
   "cell_type": "code",
   "execution_count": 84,
   "id": "6d096587",
   "metadata": {},
   "outputs": [],
   "source": [
    "class DynaminAttributes:\n",
    "    def __init__(self, attribute):\n",
    "        self.attribute = attribute\n",
    "        \n",
    "    def __getattr__(self, attr):\n",
    "        if attr.startswith('fallback_'):\n",
    "            name = attr.replace('fallback_', '')\n",
    "            return f'[fallback resolved] {name}'\n",
    "        raise AttributeError(f'{self.__class__.___name__} 에는 {attr} 속성이 없음')"
   ]
  },
  {
   "cell_type": "code",
   "execution_count": 74,
   "id": "5d1f017a",
   "metadata": {},
   "outputs": [],
   "source": [
    "da = DynaminAttributes('old_value')"
   ]
  },
  {
   "cell_type": "code",
   "execution_count": 75,
   "id": "90fa4421",
   "metadata": {},
   "outputs": [
    {
     "data": {
      "text/plain": [
       "'old_value'"
      ]
     },
     "execution_count": 75,
     "metadata": {},
     "output_type": "execute_result"
    }
   ],
   "source": [
    "da.attribute"
   ]
  },
  {
   "cell_type": "code",
   "execution_count": 76,
   "id": "bed66a29",
   "metadata": {},
   "outputs": [
    {
     "data": {
      "text/plain": [
       "'[fallback resolved] test'"
      ]
     },
     "execution_count": 76,
     "metadata": {},
     "output_type": "execute_result"
    }
   ],
   "source": [
    "da.fallback_test"
   ]
  },
  {
   "cell_type": "code",
   "execution_count": 77,
   "id": "e9fc698c",
   "metadata": {},
   "outputs": [
    {
     "data": {
      "text/plain": [
       "{'attribute': 'old_value'}"
      ]
     },
     "execution_count": 77,
     "metadata": {},
     "output_type": "execute_result"
    }
   ],
   "source": [
    "da.__dict__"
   ]
  },
  {
   "cell_type": "code",
   "execution_count": 78,
   "id": "3d72a28b",
   "metadata": {},
   "outputs": [],
   "source": [
    "da.fallback_test = 'big_value'"
   ]
  },
  {
   "cell_type": "code",
   "execution_count": 79,
   "id": "a31a8e58",
   "metadata": {},
   "outputs": [
    {
     "data": {
      "text/plain": [
       "{'attribute': 'old_value', 'fallback_test': 'big_value'}"
      ]
     },
     "execution_count": 79,
     "metadata": {},
     "output_type": "execute_result"
    }
   ],
   "source": [
    "da.__dict__"
   ]
  },
  {
   "cell_type": "code",
   "execution_count": 80,
   "id": "2181b8b8",
   "metadata": {},
   "outputs": [],
   "source": [
    "da.__dict__['fallback_new'] = 'new_value'"
   ]
  },
  {
   "cell_type": "code",
   "execution_count": 81,
   "id": "28c894e0",
   "metadata": {},
   "outputs": [
    {
     "data": {
      "text/plain": [
       "{'attribute': 'old_value',\n",
       " 'fallback_test': 'big_value',\n",
       " 'fallback_new': 'new_value'}"
      ]
     },
     "execution_count": 81,
     "metadata": {},
     "output_type": "execute_result"
    }
   ],
   "source": [
    "da.__dict__"
   ]
  },
  {
   "cell_type": "code",
   "execution_count": 82,
   "id": "b1bcb59e",
   "metadata": {},
   "outputs": [
    {
     "data": {
      "text/plain": [
       "'old_value'"
      ]
     },
     "execution_count": 82,
     "metadata": {},
     "output_type": "execute_result"
    }
   ],
   "source": [
    "getattr(da, 'attribute', 'default')"
   ]
  },
  {
   "cell_type": "code",
   "execution_count": 83,
   "id": "ea8f03d8",
   "metadata": {},
   "outputs": [
    {
     "data": {
      "text/plain": [
       "'default'"
      ]
     },
     "execution_count": 83,
     "metadata": {},
     "output_type": "execute_result"
    }
   ],
   "source": [
    "getattr(da, 'unknown', 'default')"
   ]
  },
  {
   "cell_type": "markdown",
   "id": "c124afd2",
   "metadata": {},
   "source": [
    "### callable instance\n",
    "\n",
    "- instance를 함수처럼 호출할 수 있게 해줌\n",
    "- `__call__`구현해야함\n",
    "- 또는 `@callable`로도 대체 가능\n",
    "- 자세한 내용은 나중에"
   ]
  },
  {
   "cell_type": "markdown",
   "id": "3c73bcff",
   "metadata": {},
   "source": [
    "### python tips"
   ]
  },
  {
   "cell_type": "markdown",
   "id": "03a32fae",
   "metadata": {},
   "source": [
    "> 함수의 기본 파라미터 값을 dict, list와 같은 객체 값으로 주면, 이들은 처음에만 생성되고 그 뒤로는 계속 남아있는다. 따라서 이들을 수정하는 로직이 함수안에 있을 경우, 다음 호출 시의 결과를 에측하고 어렵고, 에러가 발생할 수 있다.\n",
    "\n",
    "> `list, str, dict` 와 같은 built-in class의 기능을 확장하려면, `collections` 라이브러이의 `UserList, UserString, UserDict`를 상속해야, 오버라이드 하지않은 나머지 함수들도 제대로 작동할 수 있다."
   ]
  },
  {
   "cell_type": "code",
   "execution_count": 105,
   "id": "80537267",
   "metadata": {},
   "outputs": [],
   "source": [
    "class BadList(list):\n",
    "    def __getitem__(self, index):\n",
    "        value = super().__getitem__(index)\n",
    "        if index % 2 == 0:\n",
    "            prefix = 'even'\n",
    "        else:\n",
    "            prefix = 'odd'\n",
    "        return f'[{prefix}] {value}'"
   ]
  },
  {
   "cell_type": "code",
   "execution_count": 106,
   "id": "02d6af29",
   "metadata": {},
   "outputs": [],
   "source": [
    "bl = BadList([0, 1, 2, 3, 4, 5])"
   ]
  },
  {
   "cell_type": "code",
   "execution_count": 107,
   "id": "77611259",
   "metadata": {},
   "outputs": [
    {
     "data": {
      "text/plain": [
       "'[even] 0'"
      ]
     },
     "execution_count": 107,
     "metadata": {},
     "output_type": "execute_result"
    }
   ],
   "source": [
    "bl[0]"
   ]
  },
  {
   "cell_type": "code",
   "execution_count": 108,
   "id": "997c35b4",
   "metadata": {},
   "outputs": [
    {
     "data": {
      "text/plain": [
       "'[odd] 1'"
      ]
     },
     "execution_count": 108,
     "metadata": {},
     "output_type": "execute_result"
    }
   ],
   "source": [
    "bl[1]"
   ]
  },
  {
   "cell_type": "code",
   "execution_count": 109,
   "id": "6a17a415",
   "metadata": {},
   "outputs": [
    {
     "ename": "TypeError",
     "evalue": "sequence item 0: expected str instance, int found",
     "output_type": "error",
     "traceback": [
      "\u001b[0;31m---------------------------------------\u001b[0m",
      "\u001b[0;31mTypeError\u001b[0mTraceback (most recent call last)",
      "\u001b[0;32m<ipython-input-109-97343d2dbcef>\u001b[0m in \u001b[0;36m<module>\u001b[0;34m\u001b[0m\n\u001b[0;32m----> 1\u001b[0;31m \u001b[0;34m\" \"\u001b[0m\u001b[0;34m.\u001b[0m\u001b[0mjoin\u001b[0m\u001b[0;34m(\u001b[0m\u001b[0mbl\u001b[0m\u001b[0;34m)\u001b[0m\u001b[0;34m\u001b[0m\u001b[0;34m\u001b[0m\u001b[0m\n\u001b[0m",
      "\u001b[0;31mTypeError\u001b[0m: sequence item 0: expected str instance, int found"
     ]
    }
   ],
   "source": [
    "\" \".join(bl)"
   ]
  },
  {
   "cell_type": "code",
   "execution_count": 110,
   "id": "72a7088c",
   "metadata": {},
   "outputs": [
    {
     "data": {
      "text/plain": [
       "[0, 1, 2, 3, 4, 5]"
      ]
     },
     "execution_count": 110,
     "metadata": {},
     "output_type": "execute_result"
    }
   ],
   "source": [
    "bl"
   ]
  },
  {
   "cell_type": "code",
   "execution_count": 111,
   "id": "c82f9ab1",
   "metadata": {},
   "outputs": [],
   "source": [
    "from collections import UserList\n",
    "\n",
    "class GoodList(UserList):\n",
    "    def __getitem__(self, index):\n",
    "        value = super().__getitem__(index)\n",
    "        if index % 2 == 0:\n",
    "            prefix = 'even'\n",
    "        else:\n",
    "            prefix = 'odd'\n",
    "        return f'[{prefix}] {value}'"
   ]
  },
  {
   "cell_type": "code",
   "execution_count": 112,
   "id": "6ba567e0",
   "metadata": {},
   "outputs": [],
   "source": [
    "gl = GoodList([0, 1, 2, 3, 4, 5])"
   ]
  },
  {
   "cell_type": "code",
   "execution_count": 113,
   "id": "cd1b632b",
   "metadata": {},
   "outputs": [
    {
     "data": {
      "text/plain": [
       "[0, 1, 2, 3, 4, 5]"
      ]
     },
     "execution_count": 113,
     "metadata": {},
     "output_type": "execute_result"
    }
   ],
   "source": [
    "gl"
   ]
  },
  {
   "cell_type": "code",
   "execution_count": 114,
   "id": "c52c4977",
   "metadata": {},
   "outputs": [
    {
     "data": {
      "text/plain": [
       "'[even] 0'"
      ]
     },
     "execution_count": 114,
     "metadata": {},
     "output_type": "execute_result"
    }
   ],
   "source": [
    "gl[0]"
   ]
  },
  {
   "cell_type": "code",
   "execution_count": 115,
   "id": "8e72e5d3",
   "metadata": {},
   "outputs": [
    {
     "data": {
      "text/plain": [
       "'[even] 0 [odd] 1 [even] 2 [odd] 3 [even] 4 [odd] 5'"
      ]
     },
     "execution_count": 115,
     "metadata": {},
     "output_type": "execute_result"
    }
   ],
   "source": [
    "\" \".join(gl)"
   ]
  },
  {
   "cell_type": "code",
   "execution_count": null,
   "id": "f392225a",
   "metadata": {},
   "outputs": [],
   "source": []
  }
 ],
 "metadata": {
  "kernelspec": {
   "display_name": "clean_code",
   "language": "python",
   "name": "clean_code"
  },
  "language_info": {
   "codemirror_mode": {
    "name": "ipython",
    "version": 3
   },
   "file_extension": ".py",
   "mimetype": "text/x-python",
   "name": "python",
   "nbconvert_exporter": "python",
   "pygments_lexer": "ipython3",
   "version": "3.9.5"
  }
 },
 "nbformat": 4,
 "nbformat_minor": 5
}
